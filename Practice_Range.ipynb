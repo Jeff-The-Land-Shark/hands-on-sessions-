{
  "nbformat": 4,
  "nbformat_minor": 0,
  "metadata": {
    "colab": {
      "provenance": [],
      "authorship_tag": "ABX9TyPRjE6eMuOfO+7b+xsHBZzl",
      "include_colab_link": true
    },
    "kernelspec": {
      "name": "python3",
      "display_name": "Python 3"
    },
    "language_info": {
      "name": "python"
    }
  },
  "cells": [
    {
      "cell_type": "markdown",
      "metadata": {
        "id": "view-in-github",
        "colab_type": "text"
      },
      "source": [
        "<a href=\"https://colab.research.google.com/github/Jeff-The-Land-Shark/hands-on-sessions-/blob/main/Practice_Range.ipynb\" target=\"_parent\"><img src=\"https://colab.research.google.com/assets/colab-badge.svg\" alt=\"Open In Colab\"/></a>"
      ]
    },
    {
      "cell_type": "markdown",
      "source": [],
      "metadata": {
        "id": "OJcJl2SFlV0N"
      }
    },
    {
      "cell_type": "markdown",
      "source": [
        "test\n"
      ],
      "metadata": {
        "id": "WcOVxT9BlUFr"
      }
    },
    {
      "cell_type": "code",
      "source": [],
      "metadata": {
        "id": "MJMlSRojlWGs"
      },
      "execution_count": null,
      "outputs": []
    }
  ]
}